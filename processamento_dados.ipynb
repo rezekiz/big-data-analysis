{
  "cells": [
    {
      "cell_type": "markdown",
      "metadata": {},
      "source": [
        "# **Big Data Analysis**"
      ]
    },
    {
      "cell_type": "markdown",
      "metadata": {
        "id": "CPsUwUjlGhfC"
      },
      "source": [
        "## **Pré-tratamento**\n",
        "\n",
        "***Nesta secção irá ser feito o pré-tratamento dos dados***. Concretamente iremos ***fundir os dados*** provenientes dos diferentes datasets, *\"alinhando-os\"* pelas colunas *\"Entidade\"* (equivalente a nome do país), *\"Code\"* (equivalente ao código identificador IUPAC do país) e *\"Year\"* (correspondente ao ano em que foram recolhidos os dados).\n",
        "\n",
        "Iremos também *\"aparar\"* os dados em função do indicador limitante, neste caso o ano de dados disponíveis, sendo o ***período de 1990 a 2016*** o período comum a todos os datasets.\n",
        "\n",
        "**Para efeitos de comparação** iremos fazer merge dos datasets usando o package Pandas e PySpark, de modo a comparar a eficiência de ambos em diferentes contextos"
      ]
    },
    {
      "cell_type": "markdown",
      "metadata": {
        "id": "fOP_k-GEZoZc"
      },
      "source": [
        "### Pré-tratamento utilizando Pandas"
      ]
    },
    {
      "cell_type": "code",
      "execution_count": 1,
      "metadata": {
        "colab": {
          "base_uri": "https://localhost:8080/",
          "height": 330
        },
        "id": "uBZhYW71Gbpv",
        "outputId": "12436a8a-2a77-4cf3-d7f8-17b96b401312"
      },
      "outputs": [
        {
          "data": {
            "text/html": [
              "<div>\n",
              "<style scoped>\n",
              "    .dataframe tbody tr th:only-of-type {\n",
              "        vertical-align: middle;\n",
              "    }\n",
              "\n",
              "    .dataframe tbody tr th {\n",
              "        vertical-align: top;\n",
              "    }\n",
              "\n",
              "    .dataframe thead th {\n",
              "        text-align: right;\n",
              "    }\n",
              "</style>\n",
              "<table border=\"1\" class=\"dataframe\">\n",
              "  <thead>\n",
              "    <tr style=\"text-align: right;\">\n",
              "      <th></th>\n",
              "      <th>Entity</th>\n",
              "      <th>Code</th>\n",
              "      <th>Year</th>\n",
              "      <th>Population (historical estimates)</th>\n",
              "      <th>Indicator:Prevalence of obesity among adults, BMI &amp;GreaterEqual; 30 (crude estimate) (%) - Sex:Both sexes</th>\n",
              "      <th>Schizophrenia disorders (share of population) - Sex: Both - Age: Age-standardized</th>\n",
              "      <th>Depressive disorders (share of population) - Sex: Both - Age: Age-standardized</th>\n",
              "      <th>Anxiety disorders (share of population) - Sex: Both - Age: Age-standardized</th>\n",
              "      <th>Bipolar disorders (share of population) - Sex: Both - Age: Age-standardized</th>\n",
              "      <th>Eating disorders (share of population) - Sex: Both - Age: Age-standardized</th>\n",
              "    </tr>\n",
              "  </thead>\n",
              "  <tbody>\n",
              "    <tr>\n",
              "      <th>0</th>\n",
              "      <td>Afghanistan</td>\n",
              "      <td>AFG</td>\n",
              "      <td>1990</td>\n",
              "      <td>10694804</td>\n",
              "      <td>1.0</td>\n",
              "      <td>0.223206</td>\n",
              "      <td>4.996118</td>\n",
              "      <td>4.713314</td>\n",
              "      <td>0.703023</td>\n",
              "      <td>0.127700</td>\n",
              "    </tr>\n",
              "    <tr>\n",
              "      <th>1</th>\n",
              "      <td>Afghanistan</td>\n",
              "      <td>AFG</td>\n",
              "      <td>1991</td>\n",
              "      <td>10745168</td>\n",
              "      <td>1.1</td>\n",
              "      <td>0.222454</td>\n",
              "      <td>4.989290</td>\n",
              "      <td>4.702100</td>\n",
              "      <td>0.702069</td>\n",
              "      <td>0.123256</td>\n",
              "    </tr>\n",
              "    <tr>\n",
              "      <th>2</th>\n",
              "      <td>Afghanistan</td>\n",
              "      <td>AFG</td>\n",
              "      <td>1992</td>\n",
              "      <td>12057436</td>\n",
              "      <td>1.2</td>\n",
              "      <td>0.221751</td>\n",
              "      <td>4.981346</td>\n",
              "      <td>4.683743</td>\n",
              "      <td>0.700792</td>\n",
              "      <td>0.118844</td>\n",
              "    </tr>\n",
              "    <tr>\n",
              "      <th>3</th>\n",
              "      <td>Afghanistan</td>\n",
              "      <td>AFG</td>\n",
              "      <td>1993</td>\n",
              "      <td>14003764</td>\n",
              "      <td>1.2</td>\n",
              "      <td>0.220987</td>\n",
              "      <td>4.976958</td>\n",
              "      <td>4.673549</td>\n",
              "      <td>0.700087</td>\n",
              "      <td>0.115089</td>\n",
              "    </tr>\n",
              "    <tr>\n",
              "      <th>4</th>\n",
              "      <td>Afghanistan</td>\n",
              "      <td>AFG</td>\n",
              "      <td>1994</td>\n",
              "      <td>15455560</td>\n",
              "      <td>1.3</td>\n",
              "      <td>0.220183</td>\n",
              "      <td>4.977782</td>\n",
              "      <td>4.670810</td>\n",
              "      <td>0.699898</td>\n",
              "      <td>0.111815</td>\n",
              "    </tr>\n",
              "  </tbody>\n",
              "</table>\n",
              "</div>"
            ],
            "text/plain": [
              "        Entity Code  Year  Population (historical estimates)  \\\n",
              "0  Afghanistan  AFG  1990                           10694804   \n",
              "1  Afghanistan  AFG  1991                           10745168   \n",
              "2  Afghanistan  AFG  1992                           12057436   \n",
              "3  Afghanistan  AFG  1993                           14003764   \n",
              "4  Afghanistan  AFG  1994                           15455560   \n",
              "\n",
              "   Indicator:Prevalence of obesity among adults, BMI &GreaterEqual; 30 (crude estimate) (%) - Sex:Both sexes  \\\n",
              "0                                                1.0                                                           \n",
              "1                                                1.1                                                           \n",
              "2                                                1.2                                                           \n",
              "3                                                1.2                                                           \n",
              "4                                                1.3                                                           \n",
              "\n",
              "   Schizophrenia disorders (share of population) - Sex: Both - Age: Age-standardized  \\\n",
              "0                                           0.223206                                   \n",
              "1                                           0.222454                                   \n",
              "2                                           0.221751                                   \n",
              "3                                           0.220987                                   \n",
              "4                                           0.220183                                   \n",
              "\n",
              "   Depressive disorders (share of population) - Sex: Both - Age: Age-standardized  \\\n",
              "0                                           4.996118                                \n",
              "1                                           4.989290                                \n",
              "2                                           4.981346                                \n",
              "3                                           4.976958                                \n",
              "4                                           4.977782                                \n",
              "\n",
              "   Anxiety disorders (share of population) - Sex: Both - Age: Age-standardized  \\\n",
              "0                                           4.713314                             \n",
              "1                                           4.702100                             \n",
              "2                                           4.683743                             \n",
              "3                                           4.673549                             \n",
              "4                                           4.670810                             \n",
              "\n",
              "   Bipolar disorders (share of population) - Sex: Both - Age: Age-standardized  \\\n",
              "0                                           0.703023                             \n",
              "1                                           0.702069                             \n",
              "2                                           0.700792                             \n",
              "3                                           0.700087                             \n",
              "4                                           0.699898                             \n",
              "\n",
              "   Eating disorders (share of population) - Sex: Both - Age: Age-standardized  \n",
              "0                                           0.127700                           \n",
              "1                                           0.123256                           \n",
              "2                                           0.118844                           \n",
              "3                                           0.115089                           \n",
              "4                                           0.111815                           "
            ]
          },
          "execution_count": 1,
          "metadata": {},
          "output_type": "execute_result"
        }
      ],
      "source": [
        "# Com pandas\n",
        "import pandas as pd\n",
        "\n",
        "# Importamos o módulo time para efeitos de comparação de tempos de execução\n",
        "import time\n",
        "\n",
        "pd_start = time.time() # inicio do contador pandas\n",
        "\n",
        "# Carregamos o dataset com dados populacionais\n",
        "import pandas as pd\n",
        "pop = pd.read_csv('datasets/population.csv')\n",
        "pop = pop[pop['Year'] >= 1990]\n",
        "pop = pop[pop['Year'] <= 2016]\n",
        "\n",
        "# Carregamos o dataset para prevelência de obesidade\n",
        "obes = pd.read_csv('datasets/share-of-adults-defined-as-obese.csv')\n",
        "obes = obes[obes['Year'] >= 1990]\n",
        "\n",
        "# Carregamos o dataset para prevalência doenças mentais\n",
        "mental = pd.read_csv('datasets/mental-illnesses-prevalence.csv')\n",
        "mental = mental[mental['Year'] <= 2016]\n",
        "\n",
        "merged = pd.DataFrame()\n",
        "merged = pd.merge(pop,obes,on=['Entity','Code','Year'])\n",
        "merged = pd.merge(merged,mental,on=['Entity','Code','Year'])\n",
        "\n",
        "pd_end = time.time() # fim do contador pandas\n",
        "\n",
        "pd_elapsed = pd_end - pd_start # tempo de execução do contador pandas\n",
        "\n",
        "\n",
        "# Salvar o ficheiro com os datasets juntos na diretoria indicada\n",
        "merged.to_csv('datasets/merged_pandas.csv', index=False) \n",
        "\n",
        "merged.head()"
      ]
    },
    {
      "cell_type": "markdown",
      "metadata": {
        "id": "85DkuAJ_ZiMO"
      },
      "source": [
        "### Pré-tratamento de dados utilizando Spark"
      ]
    },
    {
      "cell_type": "code",
      "execution_count": null,
      "metadata": {},
      "outputs": [],
      "source": [
        "#pip install pyspark\n",
        "# remover # para instalar o package pyspark antes dos imports\n",
        "\n",
        "from pyspark.sql import SparkSession\n",
        "from pyspark.sql.functions import col\n",
        "\n",
        "import time\n",
        "\n",
        "# Criação de uma sessão Spark\n",
        "Spark = SparkSession.builder.appName(\"BigDataAnalysis\").getOrCreate()\n",
        "\n",
        "#o tempo está a contar desde o inicio da execução da tarefa e não antes do início da sessão, mesmo assim Pysparks revelou ser mais lento neste caso\n",
        "spark_start = time.time() \n",
        "\n",
        "# Carregar e aparar datasets\n",
        "\n",
        "# Dataset da população\n",
        "spark_pop = Spark.read.csv(\n",
        "    'datasets/population.csv',\n",
        "    header = True ,\n",
        "    inferSchema = True\n",
        "    )\n",
        "\n",
        "spark_pop = spark_pop.filter(col('Year').between(1990, 2016))\n",
        "\n",
        "# Carregamos o dataset para prevelência de obesidade\n",
        "spark_obes = Spark.read.csv(\n",
        "    'datasets/share-of-adults-defined-as-obese.csv',\n",
        "    header = True,\n",
        "    inferSchema = True\n",
        "    )\n",
        "\n",
        "spark_obes = spark_obes.filter(col('Year') >= 1990)\n",
        "\n",
        "# Carregamos o dataset para prevalência doenças mentais\n",
        "spark_mental = Spark.read.csv(\n",
        "    'datasets/mental-illnesses-prevalence.csv',\n",
        "    header = True,\n",
        "    inferSchema = True\n",
        "    )\n",
        "\n",
        "spark_mental = spark_mental.filter(col('Year') <= 2016)\n",
        "\n",
        "# Unimos os datasets com o mesmo critério (país, IUPAC, código)\n",
        "\n",
        "spark_merged = spark_pop.join \\\n",
        "  (spark_obes, on = ['Entity','Code','Year'], how = 'inner').join \\\n",
        "  (spark_mental, on = ['Entity', 'Code','Year'], how = 'inner')\n",
        "\n",
        "# Descomentar para ver o dataset\n",
        "#spark_merged.show()\n",
        "\n",
        "Spark.stop()\n",
        "\n",
        "spark_end = time.time() # fim do contador spark\n",
        "\n",
        "spark_elapsed = spark_end - spark_start # tempo de execução do contador spark"
      ]
    },
    {
      "cell_type": "code",
      "execution_count": 4,
      "metadata": {},
      "outputs": [],
      "source": [
        "# spark_merged.write.format(\"csv\").option(\"header\", \"true\").mode(\"append\").save('datasets/merged_spark.csv')\n",
        "# não estou a conseguir salvar o ficheiro tratado com pyspark dá um erro estranho, relacionado com a diretoria, \n",
        "# ja tentei com \"append\" e \"overwrite\", deve ser mesmo da diretoria"
      ]
    },
    {
      "cell_type": "code",
      "execution_count": 5,
      "metadata": {
        "colab": {
          "base_uri": "https://localhost:8080/"
        },
        "id": "BLtPeq0GYjNN",
        "outputId": "ecd5a12d-92d8-4779-a433-04f84a70384b"
      },
      "outputs": [
        {
          "name": "stdout",
          "output_type": "stream",
          "text": [
            "Com pandas, demorou 0.189 segundos\n",
            "Com spark, demorou 16.675 segundos\n"
          ]
        }
      ],
      "source": [
        "# Comparamos o tempo de computação para cada um dos modelos\n",
        "\n",
        "print(f'Com pandas, demorou {round(pd_elapsed, 3)} segundos',\n",
        "      f'Com spark, demorou {round(spark_elapsed, 3)} segundos',\n",
        "      sep = '\\n')"
      ]
    },
    {
      "cell_type": "markdown",
      "metadata": {
        "id": "xsgy8GPmZLPk"
      },
      "source": [
        "### Análise do pré-tratamento\n",
        "Neste caso concreto percebemos que várias ferramentas têm comportamentos diferentes em função dos dados, o que é algo a ter em conta no contexto do que pretendemos fazer.\n",
        "\n",
        "Numa próxima abordagem iremos perceber que em função do que podemos fazer há ferramentas/abordagens mais ou menos eficientes. Neste caso concreto, a utilização de Spark demonstrou-se como menos eficiente."
      ]
    },
    {
      "cell_type": "markdown",
      "metadata": {},
      "source": [
        "## Escolha da base de dados\n",
        "\n",
        "**Tarefa:**  \n",
        "Ver nas bases de dados qual se adequa melhor ao nosso caso:  \n",
        "\n",
        "- Cassandra\n",
        "- Hadoop base\n",
        "- MongoDB\n",
        "\n",
        "**Características do nosso dataset:**  \n",
        "- O dataset parece ser bem estruturado com um esquema fixo.  \n",
        "- Tem um tamanho moderado com 5.185 entradas.  \n",
        "- Inclui dados históricos e estatísticas de saúde, o que pode implicar em consultas analíticas e relatórios.\n",
        "\n",
        "**Cassandra:** \n",
        "É altamente escalável e projetado para lidar com grandes volumes de dados distribuídos por vários servidores.  \n",
        "É otimizado para gravações rápidas e pode lidar com grandes volumes de dados com desempenho consistente.  \n",
        "No entanto, pode não ser o ideal para consultas complexas ad-hoc, pois seu modelo de dados é otimizado para consultas conhecidas e repetitivas.  \n",
        "  \n",
        "**HBase:** \n",
        "Também é projetado para escalabilidade horizontal e pode lidar com grandes volumes de dados.  \n",
        "É otimizado para leituras e gravações aleatórias em grandes datasets.  \n",
        "Suporta consultas em tempo real em Big Data, mas pode ser complexo de configurar e gerenciar.  \n",
        "  \n",
        "**MongoDB:** \n",
        "É um banco de dados orientado a documentos, projetado para flexibilidade e escalabilidade.  \n",
        "Suporta um esquema dinâmico, o que o torna uma boa escolha para dados que podem evoluir com o tempo.  \n",
        "É conhecido por sua facilidade de uso, eficiência em consultas complexas e boas capacidades de agregação de dados.  \n",
        "Tem um forte suporte para consultas ad-hoc, indexação e agregação de dados.\n",
        "\n",
        "\n",
        "**Em resumo**, se a flexibilidade no schema dos dados, a facilidade de desenvolvimento, e análises complexas são importantes, MongoDB pode ser a melhor escolha. Se a escalabilidade e a distribuição geográfica são prioridades, consideremos o Cassandra. E se estamos a operar dentro de um ecossistema Hadoop e precisa de acesso rápido e em tempo real aos dados, HBase pode ser a opção mais adequada."
      ]
    },
    {
      "cell_type": "markdown",
      "metadata": {},
      "source": [
        "**Optei pela base de dados no mongoDB**  # espero nao termos limitações por isto...  \n",
        "\n",
        "Username : bigdata  \n",
        "pass : bioinfo24"
      ]
    },
    {
      "cell_type": "code",
      "execution_count": 2,
      "metadata": {},
      "outputs": [],
      "source": [
        "# mongoimport  \n",
        "# Imports content from an Extended JSON, CSV, or TSV export. Descomentar e substituir no codigo pela nossa BD\n",
        "\n",
        "# mongoimport --uri  mongodb+srv://bigdata:<enter_password>@bigdataanalysis.e19vio9.mongodb.net/<enter_database_name>  --collection  <enter_collection_name>  --type  <enter JSON/CSV/TSV>   --file  <enter path/to/file>"
      ]
    },
    {
      "cell_type": "code",
      "execution_count": 3,
      "metadata": {},
      "outputs": [],
      "source": [
        "\n",
        "# mongoexport\n",
        "# Produces a JSON or CSV export of data stored in a MongoDB instance. Descomentar e substituir no codigo pela nossa BD\n",
        "\n",
        "# mongoexport --uri  mongodb+srv://bigdata:<enter_password>@bigdataanalysis.e19vio9.mongodb.net/<enter_database_name>  --collection  <enter_collection_name>  --type  <enter JSON/CSV/TSV>  --out  <enter_file_name> "
      ]
    },
    {
      "cell_type": "markdown",
      "metadata": {},
      "source": []
    }
  ],
  "metadata": {
    "colab": {
      "provenance": []
    },
    "kernelspec": {
      "display_name": "Python 3",
      "language": "python",
      "name": "python3"
    },
    "language_info": {
      "codemirror_mode": {
        "name": "ipython",
        "version": 3
      },
      "file_extension": ".py",
      "mimetype": "text/x-python",
      "name": "python",
      "nbconvert_exporter": "python",
      "pygments_lexer": "ipython3",
      "version": "3.11.4"
    }
  },
  "nbformat": 4,
  "nbformat_minor": 0
}
