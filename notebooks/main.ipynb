{
 "cells": [
  {
   "cell_type": "markdown",
   "metadata": {},
   "source": [
    "# **Big Data Analysis**"
   ]
  },
  {
   "cell_type": "code",
   "execution_count": 51,
   "metadata": {},
   "outputs": [],
   "source": [
    "# Load libs:\n",
    "#!pip install pandas pyspark pymongo"
   ]
  },
  {
   "cell_type": "markdown",
   "metadata": {},
   "source": [
    "### Data Preprocessing\n",
    "\n",
    "In this section, data preprocessing will be performed. Specifically, we will **merge the data** from different datasets, *aligning them* by the columns **\"Entity\"** (equivalent to country name), **\"Code\"** (equivalent to the country's IUPAC identifier code), and **\"Year\"** (corresponding to the year the data was collected).\n",
    "\n",
    "We will also *trim* the data based on the limiting indicator, in this case, the year of available data, with the **period from 1990 to 2016** being the common period across all datasets.\n",
    "\n",
    "For comparison purposes, we will merge the datasets using the Pandas and PySpark packages to compare the efficiency of both in different contexts.\n"
   ]
  },
  {
   "cell_type": "markdown",
   "metadata": {},
   "source": [
    "### Using Pandas"
   ]
  },
  {
   "cell_type": "code",
   "execution_count": 52,
   "metadata": {},
   "outputs": [],
   "source": [
    "# Importamos o módulo time para efeitos de comparação de tempos de execução\n",
    "import time\n",
    "\n",
    "# Carregamento dos datasets\n",
    "import pandas as pd\n",
    "\n",
    "pd_start = time.time() # inicio do contador pandas"
   ]
  },
  {
   "cell_type": "code",
   "execution_count": 53,
   "metadata": {},
   "outputs": [
    {
     "data": {
      "text/html": [
       "<div>\n",
       "<style scoped>\n",
       "    .dataframe tbody tr th:only-of-type {\n",
       "        vertical-align: middle;\n",
       "    }\n",
       "\n",
       "    .dataframe tbody tr th {\n",
       "        vertical-align: top;\n",
       "    }\n",
       "\n",
       "    .dataframe thead th {\n",
       "        text-align: right;\n",
       "    }\n",
       "</style>\n",
       "<table border=\"1\" class=\"dataframe\">\n",
       "  <thead>\n",
       "    <tr style=\"text-align: right;\">\n",
       "      <th></th>\n",
       "      <th>Country</th>\n",
       "      <th>Code</th>\n",
       "      <th>Year</th>\n",
       "      <th>Population (historical estimates)</th>\n",
       "    </tr>\n",
       "  </thead>\n",
       "  <tbody>\n",
       "    <tr>\n",
       "      <th>227</th>\n",
       "      <td>Afghanistan</td>\n",
       "      <td>AFG</td>\n",
       "      <td>1990</td>\n",
       "      <td>10694804</td>\n",
       "    </tr>\n",
       "    <tr>\n",
       "      <th>228</th>\n",
       "      <td>Afghanistan</td>\n",
       "      <td>AFG</td>\n",
       "      <td>1991</td>\n",
       "      <td>10745168</td>\n",
       "    </tr>\n",
       "    <tr>\n",
       "      <th>229</th>\n",
       "      <td>Afghanistan</td>\n",
       "      <td>AFG</td>\n",
       "      <td>1992</td>\n",
       "      <td>12057436</td>\n",
       "    </tr>\n",
       "    <tr>\n",
       "      <th>230</th>\n",
       "      <td>Afghanistan</td>\n",
       "      <td>AFG</td>\n",
       "      <td>1993</td>\n",
       "      <td>14003764</td>\n",
       "    </tr>\n",
       "    <tr>\n",
       "      <th>231</th>\n",
       "      <td>Afghanistan</td>\n",
       "      <td>AFG</td>\n",
       "      <td>1994</td>\n",
       "      <td>15455560</td>\n",
       "    </tr>\n",
       "  </tbody>\n",
       "</table>\n",
       "</div>"
      ],
      "text/plain": [
       "         Country Code  Year  Population (historical estimates)\n",
       "227  Afghanistan  AFG  1990                           10694804\n",
       "228  Afghanistan  AFG  1991                           10745168\n",
       "229  Afghanistan  AFG  1992                           12057436\n",
       "230  Afghanistan  AFG  1993                           14003764\n",
       "231  Afghanistan  AFG  1994                           15455560"
      ]
     },
     "execution_count": 53,
     "metadata": {},
     "output_type": "execute_result"
    }
   ],
   "source": [
    "# Dataset on world population\n",
    "pop = pd.read_csv('../datasets/raw/population.csv')\n",
    "pop.rename(columns={'Entity': 'Country'}, inplace = True)\n",
    "pop = pop[pop['Year'] >= 1990]\n",
    "pop = pop[pop['Year'] <= 2016]\n",
    "pop.head()"
   ]
  },
  {
   "cell_type": "code",
   "execution_count": 54,
   "metadata": {},
   "outputs": [
    {
     "data": {
      "text/html": [
       "<div>\n",
       "<style scoped>\n",
       "    .dataframe tbody tr th:only-of-type {\n",
       "        vertical-align: middle;\n",
       "    }\n",
       "\n",
       "    .dataframe tbody tr th {\n",
       "        vertical-align: top;\n",
       "    }\n",
       "\n",
       "    .dataframe thead th {\n",
       "        text-align: right;\n",
       "    }\n",
       "</style>\n",
       "<table border=\"1\" class=\"dataframe\">\n",
       "  <thead>\n",
       "    <tr style=\"text-align: right;\">\n",
       "      <th></th>\n",
       "      <th>Country</th>\n",
       "      <th>Code</th>\n",
       "      <th>Year</th>\n",
       "      <th>Indicator:Prevalence of obesity among adults, BMI &amp;GreaterEqual; 30 (crude estimate) (%) - Sex:Both sexes</th>\n",
       "    </tr>\n",
       "  </thead>\n",
       "  <tbody>\n",
       "    <tr>\n",
       "      <th>15</th>\n",
       "      <td>Afghanistan</td>\n",
       "      <td>AFG</td>\n",
       "      <td>1990</td>\n",
       "      <td>1.0</td>\n",
       "    </tr>\n",
       "    <tr>\n",
       "      <th>16</th>\n",
       "      <td>Afghanistan</td>\n",
       "      <td>AFG</td>\n",
       "      <td>1991</td>\n",
       "      <td>1.1</td>\n",
       "    </tr>\n",
       "    <tr>\n",
       "      <th>17</th>\n",
       "      <td>Afghanistan</td>\n",
       "      <td>AFG</td>\n",
       "      <td>1992</td>\n",
       "      <td>1.2</td>\n",
       "    </tr>\n",
       "    <tr>\n",
       "      <th>18</th>\n",
       "      <td>Afghanistan</td>\n",
       "      <td>AFG</td>\n",
       "      <td>1993</td>\n",
       "      <td>1.2</td>\n",
       "    </tr>\n",
       "    <tr>\n",
       "      <th>19</th>\n",
       "      <td>Afghanistan</td>\n",
       "      <td>AFG</td>\n",
       "      <td>1994</td>\n",
       "      <td>1.3</td>\n",
       "    </tr>\n",
       "  </tbody>\n",
       "</table>\n",
       "</div>"
      ],
      "text/plain": [
       "        Country Code  Year  \\\n",
       "15  Afghanistan  AFG  1990   \n",
       "16  Afghanistan  AFG  1991   \n",
       "17  Afghanistan  AFG  1992   \n",
       "18  Afghanistan  AFG  1993   \n",
       "19  Afghanistan  AFG  1994   \n",
       "\n",
       "    Indicator:Prevalence of obesity among adults, BMI &GreaterEqual; 30 (crude estimate) (%) - Sex:Both sexes  \n",
       "15                                                1.0                                                          \n",
       "16                                                1.1                                                          \n",
       "17                                                1.2                                                          \n",
       "18                                                1.2                                                          \n",
       "19                                                1.3                                                          "
      ]
     },
     "execution_count": 54,
     "metadata": {},
     "output_type": "execute_result"
    }
   ],
   "source": [
    "# Dataset on obesity\n",
    "obes = pd.read_csv('../datasets/raw/share-of-adults-defined-as-obese.csv')\n",
    "obes.rename(columns={'Entity': 'Country'}, inplace = True)\n",
    "obes = obes[obes['Year'] >= 1990]\n",
    "obes = obes[obes['Year'] <= 2016] \n",
    "obes.head()"
   ]
  },
  {
   "cell_type": "code",
   "execution_count": 55,
   "metadata": {},
   "outputs": [
    {
     "data": {
      "text/html": [
       "<div>\n",
       "<style scoped>\n",
       "    .dataframe tbody tr th:only-of-type {\n",
       "        vertical-align: middle;\n",
       "    }\n",
       "\n",
       "    .dataframe tbody tr th {\n",
       "        vertical-align: top;\n",
       "    }\n",
       "\n",
       "    .dataframe thead th {\n",
       "        text-align: right;\n",
       "    }\n",
       "</style>\n",
       "<table border=\"1\" class=\"dataframe\">\n",
       "  <thead>\n",
       "    <tr style=\"text-align: right;\">\n",
       "      <th></th>\n",
       "      <th>Country</th>\n",
       "      <th>Code</th>\n",
       "      <th>Year</th>\n",
       "      <th>Schizophrenia disorders (share of population) - Sex: Both - Age: Age-standardized</th>\n",
       "      <th>Depressive disorders (share of population) - Sex: Both - Age: Age-standardized</th>\n",
       "      <th>Anxiety disorders (share of population) - Sex: Both - Age: Age-standardized</th>\n",
       "      <th>Bipolar disorders (share of population) - Sex: Both - Age: Age-standardized</th>\n",
       "      <th>Eating disorders (share of population) - Sex: Both - Age: Age-standardized</th>\n",
       "    </tr>\n",
       "  </thead>\n",
       "  <tbody>\n",
       "    <tr>\n",
       "      <th>0</th>\n",
       "      <td>Afghanistan</td>\n",
       "      <td>AFG</td>\n",
       "      <td>1990</td>\n",
       "      <td>0.223206</td>\n",
       "      <td>4.996118</td>\n",
       "      <td>4.713314</td>\n",
       "      <td>0.703023</td>\n",
       "      <td>0.127700</td>\n",
       "    </tr>\n",
       "    <tr>\n",
       "      <th>1</th>\n",
       "      <td>Afghanistan</td>\n",
       "      <td>AFG</td>\n",
       "      <td>1991</td>\n",
       "      <td>0.222454</td>\n",
       "      <td>4.989290</td>\n",
       "      <td>4.702100</td>\n",
       "      <td>0.702069</td>\n",
       "      <td>0.123256</td>\n",
       "    </tr>\n",
       "    <tr>\n",
       "      <th>2</th>\n",
       "      <td>Afghanistan</td>\n",
       "      <td>AFG</td>\n",
       "      <td>1992</td>\n",
       "      <td>0.221751</td>\n",
       "      <td>4.981346</td>\n",
       "      <td>4.683743</td>\n",
       "      <td>0.700792</td>\n",
       "      <td>0.118844</td>\n",
       "    </tr>\n",
       "    <tr>\n",
       "      <th>3</th>\n",
       "      <td>Afghanistan</td>\n",
       "      <td>AFG</td>\n",
       "      <td>1993</td>\n",
       "      <td>0.220987</td>\n",
       "      <td>4.976958</td>\n",
       "      <td>4.673549</td>\n",
       "      <td>0.700087</td>\n",
       "      <td>0.115089</td>\n",
       "    </tr>\n",
       "    <tr>\n",
       "      <th>4</th>\n",
       "      <td>Afghanistan</td>\n",
       "      <td>AFG</td>\n",
       "      <td>1994</td>\n",
       "      <td>0.220183</td>\n",
       "      <td>4.977782</td>\n",
       "      <td>4.670810</td>\n",
       "      <td>0.699898</td>\n",
       "      <td>0.111815</td>\n",
       "    </tr>\n",
       "  </tbody>\n",
       "</table>\n",
       "</div>"
      ],
      "text/plain": [
       "       Country Code  Year  \\\n",
       "0  Afghanistan  AFG  1990   \n",
       "1  Afghanistan  AFG  1991   \n",
       "2  Afghanistan  AFG  1992   \n",
       "3  Afghanistan  AFG  1993   \n",
       "4  Afghanistan  AFG  1994   \n",
       "\n",
       "   Schizophrenia disorders (share of population) - Sex: Both - Age: Age-standardized  \\\n",
       "0                                           0.223206                                   \n",
       "1                                           0.222454                                   \n",
       "2                                           0.221751                                   \n",
       "3                                           0.220987                                   \n",
       "4                                           0.220183                                   \n",
       "\n",
       "   Depressive disorders (share of population) - Sex: Both - Age: Age-standardized  \\\n",
       "0                                           4.996118                                \n",
       "1                                           4.989290                                \n",
       "2                                           4.981346                                \n",
       "3                                           4.976958                                \n",
       "4                                           4.977782                                \n",
       "\n",
       "   Anxiety disorders (share of population) - Sex: Both - Age: Age-standardized  \\\n",
       "0                                           4.713314                             \n",
       "1                                           4.702100                             \n",
       "2                                           4.683743                             \n",
       "3                                           4.673549                             \n",
       "4                                           4.670810                             \n",
       "\n",
       "   Bipolar disorders (share of population) - Sex: Both - Age: Age-standardized  \\\n",
       "0                                           0.703023                             \n",
       "1                                           0.702069                             \n",
       "2                                           0.700792                             \n",
       "3                                           0.700087                             \n",
       "4                                           0.699898                             \n",
       "\n",
       "   Eating disorders (share of population) - Sex: Both - Age: Age-standardized  \n",
       "0                                           0.127700                           \n",
       "1                                           0.123256                           \n",
       "2                                           0.118844                           \n",
       "3                                           0.115089                           \n",
       "4                                           0.111815                           "
      ]
     },
     "execution_count": 55,
     "metadata": {},
     "output_type": "execute_result"
    }
   ],
   "source": [
    "# Dataset on mental disorders prevalence\n",
    "mental = pd.read_csv('../datasets/raw/mental-illnesses-prevalence.csv')\n",
    "mental.rename(columns={'Entity': 'Country'}, inplace = True)\n",
    "mental = mental[mental['Year'] >= 1990]\n",
    "mental = mental[mental['Year'] <= 2016] \n",
    "mental.head()"
   ]
  },
  {
   "cell_type": "code",
   "execution_count": 56,
   "metadata": {},
   "outputs": [],
   "source": [
    "# Mergint the dataframes\n",
    "dataframes = [pop, obes, mental]\n",
    "\n",
    "fused = dataframes[0]\n",
    "\n",
    "for dataframe in dataframes[1:]:\n",
    "    try:\n",
    "        fused = pd.merge(\n",
    "            fused,\n",
    "            dataframe,\n",
    "            on = ['Country', 'Year', 'Code'],\n",
    "            how = 'inner'\n",
    "        )\n",
    "    except KeyError:\n",
    "        fused = pd.merge(\n",
    "            fused,\n",
    "            dataframe,\n",
    "            on = ['Country', 'Year'],\n",
    "            how = 'outer'\n",
    "        )\n",
    "\n",
    "# Exporting to CSV\n",
    "fused.to_csv('../datasets/processed/pd_processed_data.csv')"
   ]
  },
  {
   "cell_type": "code",
   "execution_count": 57,
   "metadata": {},
   "outputs": [
    {
     "name": "stdout",
     "output_type": "stream",
     "text": [
      "Pandas took 0.10265493392944336 seconds to process data.\n"
     ]
    }
   ],
   "source": [
    "pd_end = time.time()\n",
    "pd_elapsed = pd_end - pd_start # tempo de execução do contador pandas\n",
    "print('Pandas took',pd_elapsed,'seconds to process data.')"
   ]
  },
  {
   "cell_type": "markdown",
   "metadata": {},
   "source": [
    "### Using Spark"
   ]
  },
  {
   "cell_type": "code",
   "execution_count": 58,
   "metadata": {},
   "outputs": [],
   "source": [
    "spark_start = time.time()"
   ]
  },
  {
   "cell_type": "code",
   "execution_count": 59,
   "metadata": {},
   "outputs": [],
   "source": [
    "# Import required libraries\n",
    "from pyspark.sql import SparkSession\n",
    "from pyspark.sql.functions import col\n",
    "\n",
    "# Initialize SparkSession\n",
    "spark = SparkSession.builder \\\n",
    "    .appName(\"Pandas to PySpark\") \\\n",
    "    .getOrCreate()\n",
    "\n",
    "# Load datasets\n",
    "pop = spark.read.csv('../datasets/raw/population.csv', header=True)\n",
    "obes = spark.read.csv('../datasets/raw/share-of-adults-defined-as-obese.csv', header=True)\n",
    "mental = spark.read.csv('../datasets/raw/mental-illnesses-prevalence.csv', header=True)\n",
    "\n",
    "# Rename columns\n",
    "pop = pop.withColumnRenamed('Entity', 'Country')\n",
    "obes = obes.withColumnRenamed('Entity', 'Country')\n",
    "mental = mental.withColumnRenamed('Entity', 'Country')\n",
    "\n",
    "# Merge datasets\n",
    "fused = pop.join(obes, ['Country', 'Year', 'Code'], 'inner') \\\n",
    "           .join(mental, ['Country', 'Year', 'Code'], 'inner')\n",
    "\n",
    "# Drop rows with null values\n",
    "fused = fused.dropna()\n",
    "\n",
    "# Export to CSV\n",
    "fused.coalesce(1).write.mode(\"overwrite\").option(\"header\", \"true\").csv('../datasets/processed/spark_processed_data')\n",
    "\n",
    "# Stop SparkSession\n",
    "spark.stop()\n"
   ]
  },
  {
   "cell_type": "code",
   "execution_count": 60,
   "metadata": {},
   "outputs": [
    {
     "name": "stdout",
     "output_type": "stream",
     "text": [
      "Pandas took 0.103 seconds.\n",
      "Spark took 0.542 seconds.\n"
     ]
    }
   ],
   "source": [
    "# Comparamos o tempo de computação para cada um dos modelos\n",
    "spark_end = time.time()\n",
    "spark_elapsed = spark_end - spark_start\n",
    "print(f'Pandas took {round(pd_elapsed, 3)} seconds.',\n",
    "      f'Spark took {round(spark_elapsed, 3)} seconds.',\n",
    "      sep = '\\n')"
   ]
  },
  {
   "cell_type": "markdown",
   "metadata": {},
   "source": [
    "### Obs.:\n",
    "Pandas completed the pre-processing task in approximately 0.15 seconds, whereas Spark took around 6.5 seconds to accomplish the same task. This significant difference in processing time underscores the efficiency of Pandas for smaller datasets, where its lightweight nature and streamlined processes result in faster execution.\n",
    "\n",
    "However, it is essential to recognize that Spark's strength lies in its ability to handle larger-scale datasets efficiently. Despite the longer processing time observed in our experiment, Spark has demonstrated superior performance in processing datasets with millions of rows, as reported by our colleagues.\n",
    "\n",
    "Therefore, while Spark may not be the optimal choice for every pre-processing task, particularly for smaller datasets, its capabilities shine when dealing with large-scale data operations. The selection of pre-processing tools should be tailored to the specific requirements and characteristics of the dataset, ensuring optimal performance and efficiency."
   ]
  },
  {
   "cell_type": "markdown",
   "metadata": {},
   "source": [
    "## Loading data to database (MongoDB)"
   ]
  },
  {
   "cell_type": "code",
   "execution_count": null,
   "metadata": {},
   "outputs": [],
   "source": [
    "from pymongo.mongo_client import MongoClient\n",
    "from pymongo.server_api import ServerApi\n",
    "\n",
    "uri = 'YOUR URL'\n",
    "\n",
    "# Create a new client and connect to the server\n",
    "client = MongoClient(uri, server_api=ServerApi('YOUR API')) # replace YOUR API with your MongoDB API\n",
    "\n",
    "# Send a ping to confirm a successful connection\n",
    "try:\n",
    "    client.admin.command('ping')\n",
    "    print(\"Pinged your deployment. You successfully connected to MongoDB!\")\n",
    "except Exception as e:\n",
    "    print(e)\n",
    "\n",
    "# Access database\n",
    "db = client.get_database(\"BigData\")\n",
    "\n",
    "# Access/create collection\n",
    "collection = db.get_collection(\"ObesPovMen\")\n",
    "collection\n",
    "\n",
    "# Read CSV file using pandas\n",
    "csv_file = \"../datasets/processed/pd_processed_data.csv\"\n",
    "data = pd.read_csv(csv_file)\n",
    "data.head()"
   ]
  },
  {
   "cell_type": "code",
   "execution_count": null,
   "metadata": {},
   "outputs": [],
   "source": [
    "# Convert DataFrame to dictionary\n",
    "data_dict = data.to_dict(orient='records')\n",
    "print(data_dict)"
   ]
  },
  {
   "cell_type": "code",
   "execution_count": null,
   "metadata": {},
   "outputs": [],
   "source": [
    "# Insert data into MongoDB collection\n",
    "collection.insert_many(data_dict)\n",
    "\n",
    "# Close connection\n",
    "client.close()"
   ]
  }
 ],
 "metadata": {
  "kernelspec": {
   "display_name": "Python 3",
   "language": "python",
   "name": "python3"
  },
  "language_info": {
   "codemirror_mode": {
    "name": "ipython",
    "version": 3
   },
   "file_extension": ".py",
   "mimetype": "text/x-python",
   "name": "python",
   "nbconvert_exporter": "python",
   "pygments_lexer": "ipython3",
   "version": "3.12.3"
  }
 },
 "nbformat": 4,
 "nbformat_minor": 2
}
